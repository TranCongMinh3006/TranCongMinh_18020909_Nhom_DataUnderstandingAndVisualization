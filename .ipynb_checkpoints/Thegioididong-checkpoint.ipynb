{
 "cells": [
  {
   "cell_type": "markdown",
   "metadata": {},
   "source": [
    "em thêm các thư viện cần dùng "
   ]
  },
  {
   "cell_type": "code",
   "execution_count": 1,
   "metadata": {},
   "outputs": [],
   "source": [
    "import pandas as pd\n",
    "import matplotlib.pyplot as plt"
   ]
  },
  {
   "cell_type": "markdown",
   "metadata": {},
   "source": [
    "tại đây em lấy dữ liệu từ bài trước em crawl được và lưu và biến data dưới dạng dataframe"
   ]
  },
  {
   "cell_type": "code",
   "execution_count": 2,
   "metadata": {},
   "outputs": [
    {
     "data": {
      "text/html": [
       "<div>\n",
       "<style scoped>\n",
       "    .dataframe tbody tr th:only-of-type {\n",
       "        vertical-align: middle;\n",
       "    }\n",
       "\n",
       "    .dataframe tbody tr th {\n",
       "        vertical-align: top;\n",
       "    }\n",
       "\n",
       "    .dataframe thead th {\n",
       "        text-align: right;\n",
       "    }\n",
       "</style>\n",
       "<table border=\"1\" class=\"dataframe\">\n",
       "  <thead>\n",
       "    <tr style=\"text-align: right;\">\n",
       "      <th></th>\n",
       "      <th>link</th>\n",
       "      <th>category</th>\n",
       "      <th>name</th>\n",
       "      <th>img_url__001</th>\n",
       "      <th>brand</th>\n",
       "      <th>price</th>\n",
       "      <th>short_desc</th>\n",
       "      <th>img_url__002</th>\n",
       "    </tr>\n",
       "  </thead>\n",
       "  <tbody>\n",
       "    <tr>\n",
       "      <th>0</th>\n",
       "      <td>https://www.thegioididong.com/dtdd/samsung-gal...</td>\n",
       "      <td>Điện thoại</td>\n",
       "      <td>Điện thoại Samsung Galaxy A51 (6GB/128GB)</td>\n",
       "      <td>https://cdn.tgdd.vn/Products/Images/42/211570/...</td>\n",
       "      <td>Samsung</td>\n",
       "      <td>6490000</td>\n",
       "      <td>NaN</td>\n",
       "      <td>NaN</td>\n",
       "    </tr>\n",
       "    <tr>\n",
       "      <th>1</th>\n",
       "      <td>https://www.thegioididong.com/dtdd/xiaomi-redm...</td>\n",
       "      <td>Điện thoại</td>\n",
       "      <td>Điện thoại Xiaomi Redmi Note 9S</td>\n",
       "      <td>https://cdn.tgdd.vn/Products/Images/42/214924/...</td>\n",
       "      <td>Xiaomi</td>\n",
       "      <td>5690000</td>\n",
       "      <td>Redmi Note 9s là sản phẩm tầm trung nhà Xiaomi...</td>\n",
       "      <td>https://cdn.tgdd.vn/ValueIcons/1/Label_01-05.png</td>\n",
       "    </tr>\n",
       "    <tr>\n",
       "      <th>2</th>\n",
       "      <td>https://www.thegioididong.com/dtdd/vivo-v19-neo</td>\n",
       "      <td>Điện thoại</td>\n",
       "      <td>Điện thoại Vivo V19 Neo</td>\n",
       "      <td>https://cdn.tgdd.vn/Products/Images/42/220977/...</td>\n",
       "      <td>Vivo</td>\n",
       "      <td>7390000</td>\n",
       "      <td>Vivo V19 Neo là chiếc điện thoại tầm trung mới...</td>\n",
       "      <td>https://cdn.tgdd.vn/ValueIcons/1/Label_01-05.png</td>\n",
       "    </tr>\n",
       "    <tr>\n",
       "      <th>3</th>\n",
       "      <td>https://www.thegioididong.com/dtdd/iphone-11-p...</td>\n",
       "      <td>Điện thoại</td>\n",
       "      <td>Điện thoại iPhone 11 Pro Max 64GB</td>\n",
       "      <td>https://cdn.tgdd.vn/Products/Images/42/200533/...</td>\n",
       "      <td>iPhone (Apple)</td>\n",
       "      <td>33990000</td>\n",
       "      <td>Trong năm 2019 thì chiếc smartphone được nhiều...</td>\n",
       "      <td>NaN</td>\n",
       "    </tr>\n",
       "    <tr>\n",
       "      <th>4</th>\n",
       "      <td>https://www.thegioididong.com/dtdd/samsung-gal...</td>\n",
       "      <td>Điện thoại</td>\n",
       "      <td>Điện thoại Samsung Galaxy A71</td>\n",
       "      <td>https://cdn.tgdd.vn/Products/Images/42/210246/...</td>\n",
       "      <td>Samsung</td>\n",
       "      <td>8990000</td>\n",
       "      <td>Sau A51, Samsung tiếp tục ra mắt Galaxy A71 là...</td>\n",
       "      <td>NaN</td>\n",
       "    </tr>\n",
       "    <tr>\n",
       "      <th>...</th>\n",
       "      <td>...</td>\n",
       "      <td>...</td>\n",
       "      <td>...</td>\n",
       "      <td>...</td>\n",
       "      <td>...</td>\n",
       "      <td>...</td>\n",
       "      <td>...</td>\n",
       "      <td>...</td>\n",
       "    </tr>\n",
       "    <tr>\n",
       "      <th>2103</th>\n",
       "      <td>https://www.thegioididong.com/op-lung-flipcove...</td>\n",
       "      <td>NaN</td>\n",
       "      <td>Ốp lưng Redmi 7 nhựa dẻo Skycloud II JM Nude</td>\n",
       "      <td>https://cdn.tgdd.vn/Products/Images/60/203551/...</td>\n",
       "      <td>NaN</td>\n",
       "      <td>70000</td>\n",
       "      <td>NaN</td>\n",
       "      <td>NaN</td>\n",
       "    </tr>\n",
       "    <tr>\n",
       "      <th>2104</th>\n",
       "      <td>https://www.thegioididong.com/op-lung-flipcove...</td>\n",
       "      <td>NaN</td>\n",
       "      <td>Ốp lưng Redmi 7 UV Printing OSMIA CKMWG224 tìn...</td>\n",
       "      <td>https://cdn.tgdd.vn/Products/Images/60/203593/...</td>\n",
       "      <td>NaN</td>\n",
       "      <td>70000</td>\n",
       "      <td>NaN</td>\n",
       "      <td>NaN</td>\n",
       "    </tr>\n",
       "    <tr>\n",
       "      <th>2105</th>\n",
       "      <td>https://www.thegioididong.com/op-lung-flipcove...</td>\n",
       "      <td>NaN</td>\n",
       "      <td>Ốp lưng Redmi 7 UV Printing OSMIA CKTG497 Kẻ</td>\n",
       "      <td>https://cdn.tgdd.vn/Products/Images/60/203591/...</td>\n",
       "      <td>NaN</td>\n",
       "      <td>70000</td>\n",
       "      <td>NaN</td>\n",
       "      <td>NaN</td>\n",
       "    </tr>\n",
       "    <tr>\n",
       "      <th>2106</th>\n",
       "      <td>https://www.thegioididong.com/op-lung-flipcove...</td>\n",
       "      <td>NaN</td>\n",
       "      <td>Ốp lưng Xiaomi Redmi 7 nhựa dẻo Carbon Fibre T...</td>\n",
       "      <td>https://cdn.tgdd.vn/Products/Images/60/203695/...</td>\n",
       "      <td>NaN</td>\n",
       "      <td>70000</td>\n",
       "      <td>NaN</td>\n",
       "      <td>NaN</td>\n",
       "    </tr>\n",
       "    <tr>\n",
       "      <th>2107</th>\n",
       "      <td>https://www.thegioididong.com/op-lung-flipcove...</td>\n",
       "      <td>NaN</td>\n",
       "      <td>Ốp lưng iPhone 6-6S Plus Nhựa hình thú OSMIA C...</td>\n",
       "      <td>https://cdn.tgdd.vn/Products/Images/60/91585/o...</td>\n",
       "      <td>NaN</td>\n",
       "      <td>30000</td>\n",
       "      <td>NaN</td>\n",
       "      <td>NaN</td>\n",
       "    </tr>\n",
       "  </tbody>\n",
       "</table>\n",
       "<p>2108 rows × 8 columns</p>\n",
       "</div>"
      ],
      "text/plain": [
       "                                                   link    category  \\\n",
       "0     https://www.thegioididong.com/dtdd/samsung-gal...  Điện thoại   \n",
       "1     https://www.thegioididong.com/dtdd/xiaomi-redm...  Điện thoại   \n",
       "2       https://www.thegioididong.com/dtdd/vivo-v19-neo  Điện thoại   \n",
       "3     https://www.thegioididong.com/dtdd/iphone-11-p...  Điện thoại   \n",
       "4     https://www.thegioididong.com/dtdd/samsung-gal...  Điện thoại   \n",
       "...                                                 ...         ...   \n",
       "2103  https://www.thegioididong.com/op-lung-flipcove...         NaN   \n",
       "2104  https://www.thegioididong.com/op-lung-flipcove...         NaN   \n",
       "2105  https://www.thegioididong.com/op-lung-flipcove...         NaN   \n",
       "2106  https://www.thegioididong.com/op-lung-flipcove...         NaN   \n",
       "2107  https://www.thegioididong.com/op-lung-flipcove...         NaN   \n",
       "\n",
       "                                                   name  \\\n",
       "0             Điện thoại Samsung Galaxy A51 (6GB/128GB)   \n",
       "1                       Điện thoại Xiaomi Redmi Note 9S   \n",
       "2                               Điện thoại Vivo V19 Neo   \n",
       "3                     Điện thoại iPhone 11 Pro Max 64GB   \n",
       "4                         Điện thoại Samsung Galaxy A71   \n",
       "...                                                 ...   \n",
       "2103       Ốp lưng Redmi 7 nhựa dẻo Skycloud II JM Nude   \n",
       "2104  Ốp lưng Redmi 7 UV Printing OSMIA CKMWG224 tìn...   \n",
       "2105       Ốp lưng Redmi 7 UV Printing OSMIA CKTG497 Kẻ   \n",
       "2106  Ốp lưng Xiaomi Redmi 7 nhựa dẻo Carbon Fibre T...   \n",
       "2107  Ốp lưng iPhone 6-6S Plus Nhựa hình thú OSMIA C...   \n",
       "\n",
       "                                           img_url__001           brand  \\\n",
       "0     https://cdn.tgdd.vn/Products/Images/42/211570/...         Samsung   \n",
       "1     https://cdn.tgdd.vn/Products/Images/42/214924/...          Xiaomi   \n",
       "2     https://cdn.tgdd.vn/Products/Images/42/220977/...            Vivo   \n",
       "3     https://cdn.tgdd.vn/Products/Images/42/200533/...  iPhone (Apple)   \n",
       "4     https://cdn.tgdd.vn/Products/Images/42/210246/...         Samsung   \n",
       "...                                                 ...             ...   \n",
       "2103  https://cdn.tgdd.vn/Products/Images/60/203551/...             NaN   \n",
       "2104  https://cdn.tgdd.vn/Products/Images/60/203593/...             NaN   \n",
       "2105  https://cdn.tgdd.vn/Products/Images/60/203591/...             NaN   \n",
       "2106  https://cdn.tgdd.vn/Products/Images/60/203695/...             NaN   \n",
       "2107  https://cdn.tgdd.vn/Products/Images/60/91585/o...             NaN   \n",
       "\n",
       "         price                                         short_desc  \\\n",
       "0      6490000                                                NaN   \n",
       "1      5690000  Redmi Note 9s là sản phẩm tầm trung nhà Xiaomi...   \n",
       "2      7390000  Vivo V19 Neo là chiếc điện thoại tầm trung mới...   \n",
       "3     33990000  Trong năm 2019 thì chiếc smartphone được nhiều...   \n",
       "4      8990000  Sau A51, Samsung tiếp tục ra mắt Galaxy A71 là...   \n",
       "...        ...                                                ...   \n",
       "2103     70000                                                NaN   \n",
       "2104     70000                                                NaN   \n",
       "2105     70000                                                NaN   \n",
       "2106     70000                                                NaN   \n",
       "2107     30000                                                NaN   \n",
       "\n",
       "                                          img_url__002  \n",
       "0                                                  NaN  \n",
       "1     https://cdn.tgdd.vn/ValueIcons/1/Label_01-05.png  \n",
       "2     https://cdn.tgdd.vn/ValueIcons/1/Label_01-05.png  \n",
       "3                                                  NaN  \n",
       "4                                                  NaN  \n",
       "...                                                ...  \n",
       "2103                                               NaN  \n",
       "2104                                               NaN  \n",
       "2105                                               NaN  \n",
       "2106                                               NaN  \n",
       "2107                                               NaN  \n",
       "\n",
       "[2108 rows x 8 columns]"
      ]
     },
     "execution_count": 2,
     "metadata": {},
     "output_type": "execute_result"
    }
   ],
   "source": [
    "data = pd.read_csv(\"thegioididong.csv\")\n",
    "data"
   ]
  },
  {
   "cell_type": "markdown",
   "metadata": {},
   "source": [
    "em lấy ra tất cả các sản phẩm có thương hiệu là iphone "
   ]
  },
  {
   "cell_type": "code",
   "execution_count": 3,
   "metadata": {},
   "outputs": [
    {
     "data": {
      "text/html": [
       "<div>\n",
       "<style scoped>\n",
       "    .dataframe tbody tr th:only-of-type {\n",
       "        vertical-align: middle;\n",
       "    }\n",
       "\n",
       "    .dataframe tbody tr th {\n",
       "        vertical-align: top;\n",
       "    }\n",
       "\n",
       "    .dataframe thead th {\n",
       "        text-align: right;\n",
       "    }\n",
       "</style>\n",
       "<table border=\"1\" class=\"dataframe\">\n",
       "  <thead>\n",
       "    <tr style=\"text-align: right;\">\n",
       "      <th></th>\n",
       "      <th>link</th>\n",
       "      <th>category</th>\n",
       "      <th>name</th>\n",
       "      <th>img_url__001</th>\n",
       "      <th>brand</th>\n",
       "      <th>price</th>\n",
       "      <th>short_desc</th>\n",
       "      <th>img_url__002</th>\n",
       "    </tr>\n",
       "  </thead>\n",
       "  <tbody>\n",
       "    <tr>\n",
       "      <th>3</th>\n",
       "      <td>https://www.thegioididong.com/dtdd/iphone-11-p...</td>\n",
       "      <td>Điện thoại</td>\n",
       "      <td>Điện thoại iPhone 11 Pro Max 64GB</td>\n",
       "      <td>https://cdn.tgdd.vn/Products/Images/42/200533/...</td>\n",
       "      <td>iPhone (Apple)</td>\n",
       "      <td>33990000</td>\n",
       "      <td>Trong năm 2019 thì chiếc smartphone được nhiều...</td>\n",
       "      <td>NaN</td>\n",
       "    </tr>\n",
       "    <tr>\n",
       "      <th>6</th>\n",
       "      <td>https://www.thegioididong.com/dtdd/iphone-7-plus</td>\n",
       "      <td>Điện thoại</td>\n",
       "      <td>Điện thoại iPhone 7 Plus 32GB</td>\n",
       "      <td>https://cdn.tgdd.vn/Products/Images/42/78124/i...</td>\n",
       "      <td>iPhone (Apple)</td>\n",
       "      <td>11490000</td>\n",
       "      <td>NaN</td>\n",
       "      <td>NaN</td>\n",
       "    </tr>\n",
       "    <tr>\n",
       "      <th>200</th>\n",
       "      <td>https://www.thegioididong.com/dtdd/iphone-se-1...</td>\n",
       "      <td>Điện thoại</td>\n",
       "      <td>Điện thoại iPhone SE 128GB (2020)</td>\n",
       "      <td>https://cdn.tgdd.vn/Products/Images/42/222629/...</td>\n",
       "      <td>iPhone (Apple)</td>\n",
       "      <td>14990000</td>\n",
       "      <td>Sau bao ngày chờ đợi, iPhone SE 2020 cuối cùng...</td>\n",
       "      <td>NaN</td>\n",
       "    </tr>\n",
       "    <tr>\n",
       "      <th>201</th>\n",
       "      <td>https://www.thegioididong.com/dtdd/iphone-se-2020</td>\n",
       "      <td>Điện thoại</td>\n",
       "      <td>Điện thoại iPhone SE 64GB (2020)</td>\n",
       "      <td>https://cdn.tgdd.vn/Products/Images/42/149456/...</td>\n",
       "      <td>iPhone (Apple)</td>\n",
       "      <td>12990000</td>\n",
       "      <td>iPhone SE 2020 đã bất ngờ ra mắt với thiết kế ...</td>\n",
       "      <td>NaN</td>\n",
       "    </tr>\n",
       "  </tbody>\n",
       "</table>\n",
       "</div>"
      ],
      "text/plain": [
       "                                                  link    category  \\\n",
       "3    https://www.thegioididong.com/dtdd/iphone-11-p...  Điện thoại   \n",
       "6     https://www.thegioididong.com/dtdd/iphone-7-plus  Điện thoại   \n",
       "200  https://www.thegioididong.com/dtdd/iphone-se-1...  Điện thoại   \n",
       "201  https://www.thegioididong.com/dtdd/iphone-se-2020  Điện thoại   \n",
       "\n",
       "                                  name  \\\n",
       "3    Điện thoại iPhone 11 Pro Max 64GB   \n",
       "6        Điện thoại iPhone 7 Plus 32GB   \n",
       "200  Điện thoại iPhone SE 128GB (2020)   \n",
       "201   Điện thoại iPhone SE 64GB (2020)   \n",
       "\n",
       "                                          img_url__001           brand  \\\n",
       "3    https://cdn.tgdd.vn/Products/Images/42/200533/...  iPhone (Apple)   \n",
       "6    https://cdn.tgdd.vn/Products/Images/42/78124/i...  iPhone (Apple)   \n",
       "200  https://cdn.tgdd.vn/Products/Images/42/222629/...  iPhone (Apple)   \n",
       "201  https://cdn.tgdd.vn/Products/Images/42/149456/...  iPhone (Apple)   \n",
       "\n",
       "        price                                         short_desc img_url__002  \n",
       "3    33990000  Trong năm 2019 thì chiếc smartphone được nhiều...          NaN  \n",
       "6    11490000                                                NaN          NaN  \n",
       "200  14990000  Sau bao ngày chờ đợi, iPhone SE 2020 cuối cùng...          NaN  \n",
       "201  12990000  iPhone SE 2020 đã bất ngờ ra mắt với thiết kế ...          NaN  "
      ]
     },
     "execution_count": 3,
     "metadata": {},
     "output_type": "execute_result"
    }
   ],
   "source": [
    "apple = data[data['brand']==\"iPhone (Apple)\"]\n",
    "apple"
   ]
  },
  {
   "cell_type": "markdown",
   "metadata": {},
   "source": [
    "em dùng hàm iloc của pandas để lấy thử dữ liệu xem có đúng chưa"
   ]
  },
  {
   "cell_type": "code",
   "execution_count": 4,
   "metadata": {},
   "outputs": [
    {
     "data": {
      "text/plain": [
       "33990000"
      ]
     },
     "execution_count": 4,
     "metadata": {},
     "output_type": "execute_result"
    }
   ],
   "source": [
    "int(apple.iloc[0,5])"
   ]
  },
  {
   "cell_type": "markdown",
   "metadata": {},
   "source": [
    "lấy tất cả tên các sản phẩm"
   ]
  },
  {
   "cell_type": "code",
   "execution_count": 5,
   "metadata": {
    "scrolled": true
   },
   "outputs": [
    {
     "data": {
      "text/plain": [
       "3      Điện thoại iPhone 11 Pro Max 64GB\n",
       "6          Điện thoại iPhone 7 Plus 32GB\n",
       "200    Điện thoại iPhone SE 128GB (2020)\n",
       "201     Điện thoại iPhone SE 64GB (2020)\n",
       "Name: name, dtype: object"
      ]
     },
     "execution_count": 5,
     "metadata": {},
     "output_type": "execute_result"
    }
   ],
   "source": [
    "apple['name']"
   ]
  },
  {
   "cell_type": "code",
   "execution_count": 6,
   "metadata": {},
   "outputs": [],
   "source": [
    "nameSeries = apple['name']\n",
    "priceSeries = apple['price']"
   ]
  },
  {
   "cell_type": "markdown",
   "metadata": {},
   "source": [
    "tại đây em dùng biểu đồ barh để biểu diễn giá các sản phẩm được bán "
   ]
  },
  {
   "cell_type": "code",
   "execution_count": 7,
   "metadata": {
    "scrolled": true
   },
   "outputs": [
    {
     "data": {
      "text/plain": [
       "<function matplotlib.pyplot.show(*args, **kw)>"
      ]
     },
     "execution_count": 7,
     "metadata": {},
     "output_type": "execute_result"
    },
    {
     "data": {
      "image/png": "[encoded data removed]",
      "text/plain": [
       "<Figure size 1080x360 with 1 Axes>"
      ]
     },
     "metadata": {
      "needs_background": "light"
     },
     "output_type": "display_data"
    }
   ],
   "source": [
    "plt.figure(figsize=(15,5))  #  thay đổi kích thước của bảng\n",
    "plt.xlabel('price')         # gán tên cho cột x\n",
    "plt.ylabel('name of product')\n",
    "plt.title(\"biểu đồ biển diễn giá iphone\")\n",
    "plt.barh(nameSeries,priceSeries)\n",
    "plt.show"
   ]
  },
  {
   "cell_type": "markdown",
   "metadata": {},
   "source": [
    "# nhận xét\n",
    "qua biểu đồ trên ta có thể rút ra được vài kết luật :\n",
    "    -điện thoại có giá cao nhất là iphone 11 pro max\n",
    "    - các dòng điển thoại của iphone đều có giá thành khá cao ( tất cả đều trên 10 triệu)"
   ]
  },
  {
   "cell_type": "code",
   "execution_count": 8,
   "metadata": {
    "scrolled": true
   },
   "outputs": [
    {
     "data": {
      "text/html": [
       "<div>\n",
       "<style scoped>\n",
       "    .dataframe tbody tr th:only-of-type {\n",
       "        vertical-align: middle;\n",
       "    }\n",
       "\n",
       "    .dataframe tbody tr th {\n",
       "        vertical-align: top;\n",
       "    }\n",
       "\n",
       "    .dataframe thead th {\n",
       "        text-align: right;\n",
       "    }\n",
       "</style>\n",
       "<table border=\"1\" class=\"dataframe\">\n",
       "  <thead>\n",
       "    <tr style=\"text-align: right;\">\n",
       "      <th></th>\n",
       "      <th>link</th>\n",
       "      <th>category</th>\n",
       "      <th>name</th>\n",
       "      <th>img_url__001</th>\n",
       "      <th>brand</th>\n",
       "      <th>price</th>\n",
       "      <th>short_desc</th>\n",
       "      <th>img_url__002</th>\n",
       "    </tr>\n",
       "  </thead>\n",
       "  <tbody>\n",
       "    <tr>\n",
       "      <th>2</th>\n",
       "      <td>https://www.thegioididong.com/dtdd/vivo-v19-neo</td>\n",
       "      <td>Điện thoại</td>\n",
       "      <td>Điện thoại Vivo V19 Neo</td>\n",
       "      <td>https://cdn.tgdd.vn/Products/Images/42/220977/...</td>\n",
       "      <td>Vivo</td>\n",
       "      <td>7390000</td>\n",
       "      <td>Vivo V19 Neo là chiếc điện thoại tầm trung mới...</td>\n",
       "      <td>https://cdn.tgdd.vn/ValueIcons/1/Label_01-05.png</td>\n",
       "    </tr>\n",
       "    <tr>\n",
       "      <th>106</th>\n",
       "      <td>https://www.thegioididong.com/dtdd/vivo-y91c</td>\n",
       "      <td>Điện thoại</td>\n",
       "      <td>Điện thoại Vivo Y91C</td>\n",
       "      <td>https://cdn.tgdd.vn/Products/Images/42/199083/...</td>\n",
       "      <td>Vivo</td>\n",
       "      <td>2390000</td>\n",
       "      <td>Sở hữu thiết kế trẻ trung, năng động cùng kiểu...</td>\n",
       "      <td>NaN</td>\n",
       "    </tr>\n",
       "    <tr>\n",
       "      <th>108</th>\n",
       "      <td>https://www.thegioididong.com/dtdd/vivo-y1s</td>\n",
       "      <td>Điện thoại</td>\n",
       "      <td>Điện thoại Vivo Y1s</td>\n",
       "      <td>https://cdn.tgdd.vn/Products/Images/42/225851/...</td>\n",
       "      <td>Vivo</td>\n",
       "      <td>2690000</td>\n",
       "      <td>NaN</td>\n",
       "      <td>NaN</td>\n",
       "    </tr>\n",
       "    <tr>\n",
       "      <th>112</th>\n",
       "      <td>https://www.thegioididong.com/dtdd/vivo-y11</td>\n",
       "      <td>Điện thoại</td>\n",
       "      <td>Điện thoại Vivo Y11</td>\n",
       "      <td>https://cdn.tgdd.vn/Products/Images/42/212357/...</td>\n",
       "      <td>Vivo</td>\n",
       "      <td>2990000</td>\n",
       "      <td>Những smartphone thuộc dòng Y của Vivo từ trướ...</td>\n",
       "      <td>NaN</td>\n",
       "    </tr>\n",
       "    <tr>\n",
       "      <th>199</th>\n",
       "      <td>https://www.thegioididong.com/dtdd/vivo-y15</td>\n",
       "      <td>Điện thoại</td>\n",
       "      <td>Điện thoại Vivo Y15</td>\n",
       "      <td>https://cdn.tgdd.vn/Products/Images/42/202865/...</td>\n",
       "      <td>Vivo</td>\n",
       "      <td>3290000</td>\n",
       "      <td>Vivo Y15 là chiếc smartphone phổ thông mới ra ...</td>\n",
       "      <td>NaN</td>\n",
       "    </tr>\n",
       "  </tbody>\n",
       "</table>\n",
       "</div>"
      ],
      "text/plain": [
       "                                                link    category  \\\n",
       "2    https://www.thegioididong.com/dtdd/vivo-v19-neo  Điện thoại   \n",
       "106     https://www.thegioididong.com/dtdd/vivo-y91c  Điện thoại   \n",
       "108      https://www.thegioididong.com/dtdd/vivo-y1s  Điện thoại   \n",
       "112      https://www.thegioididong.com/dtdd/vivo-y11  Điện thoại   \n",
       "199      https://www.thegioididong.com/dtdd/vivo-y15  Điện thoại   \n",
       "\n",
       "                        name  \\\n",
       "2    Điện thoại Vivo V19 Neo   \n",
       "106     Điện thoại Vivo Y91C   \n",
       "108      Điện thoại Vivo Y1s   \n",
       "112      Điện thoại Vivo Y11   \n",
       "199      Điện thoại Vivo Y15   \n",
       "\n",
       "                                          img_url__001 brand    price  \\\n",
       "2    https://cdn.tgdd.vn/Products/Images/42/220977/...  Vivo  7390000   \n",
       "106  https://cdn.tgdd.vn/Products/Images/42/199083/...  Vivo  2390000   \n",
       "108  https://cdn.tgdd.vn/Products/Images/42/225851/...  Vivo  2690000   \n",
       "112  https://cdn.tgdd.vn/Products/Images/42/212357/...  Vivo  2990000   \n",
       "199  https://cdn.tgdd.vn/Products/Images/42/202865/...  Vivo  3290000   \n",
       "\n",
       "                                            short_desc  \\\n",
       "2    Vivo V19 Neo là chiếc điện thoại tầm trung mới...   \n",
       "106  Sở hữu thiết kế trẻ trung, năng động cùng kiểu...   \n",
       "108                                                NaN   \n",
       "112  Những smartphone thuộc dòng Y của Vivo từ trướ...   \n",
       "199  Vivo Y15 là chiếc smartphone phổ thông mới ra ...   \n",
       "\n",
       "                                         img_url__002  \n",
       "2    https://cdn.tgdd.vn/ValueIcons/1/Label_01-05.png  \n",
       "106                                               NaN  \n",
       "108                                               NaN  \n",
       "112                                               NaN  \n",
       "199                                               NaN  "
      ]
     },
     "execution_count": 8,
     "metadata": {},
     "output_type": "execute_result"
    }
   ],
   "source": [
    "vivo = data[data['brand']==\"Vivo\"]\n",
    "vivo"
   ]
  },
  {
   "cell_type": "code",
   "execution_count": 9,
   "metadata": {},
   "outputs": [],
   "source": [
    "nameSeries = vivo['name']\n",
    "priceSeries = vivo['price']"
   ]
  },
  {
   "cell_type": "markdown",
   "metadata": {},
   "source": [
    "tương tự như các dòng sản phẩm của iphone thì tại đây em dùng biểu đồ plot để biểu diễn giá của vivo"
   ]
  },
  {
   "cell_type": "code",
   "execution_count": 10,
   "metadata": {
    "scrolled": false
   },
   "outputs": [
    {
     "data": {
      "image/png": "[encoded data removed]",
      "text/plain": [
       "<Figure size 1080x360 with 1 Axes>"
      ]
     },
     "metadata": {
      "needs_background": "light"
     },
     "output_type": "display_data"
    }
   ],
   "source": [
    "plt.figure(figsize=(15,5))\n",
    "plt.plot(nameSeries,priceSeries,color=\"red\")\n",
    "plt.show()"
   ]
  },
  {
   "cell_type": "markdown",
   "metadata": {},
   "source": [
    "#nhận xét\n",
    "qua biểu đồ ta có thể thấy :\n",
    "    -vivo v19 neo là điển thoại đắt nhất của vivo\n",
    "    - vivo y91c là điện thoại rẻ nhất của vivo"
   ]
  },
  {
   "cell_type": "code",
   "execution_count": 11,
   "metadata": {},
   "outputs": [
    {
     "data": {
      "text/plain": [
       "<pandas.core.groupby.generic.DataFrameGroupBy object at 0x0000024C8B6E9448>"
      ]
     },
     "execution_count": 11,
     "metadata": {},
     "output_type": "execute_result"
    }
   ],
   "source": [
    "Data_groupby_category = data.groupby('category')\n",
    "Data_groupby_category"
   ]
  },
  {
   "cell_type": "markdown",
   "metadata": {},
   "source": [
    "em dùng hàm groupby để nhóm tất cả các loại sản phẩm có cùng kiểu lại , và lấy ra các sản phẩm có kiểu là điện thoại"
   ]
  },
  {
   "cell_type": "code",
   "execution_count": 12,
   "metadata": {
    "scrolled": false
   },
   "outputs": [
    {
     "data": {
      "text/html": [
       "<div>\n",
       "<style scoped>\n",
       "    .dataframe tbody tr th:only-of-type {\n",
       "        vertical-align: middle;\n",
       "    }\n",
       "\n",
       "    .dataframe tbody tr th {\n",
       "        vertical-align: top;\n",
       "    }\n",
       "\n",
       "    .dataframe thead th {\n",
       "        text-align: right;\n",
       "    }\n",
       "</style>\n",
       "<table border=\"1\" class=\"dataframe\">\n",
       "  <thead>\n",
       "    <tr style=\"text-align: right;\">\n",
       "      <th></th>\n",
       "      <th>link</th>\n",
       "      <th>category</th>\n",
       "      <th>name</th>\n",
       "      <th>img_url__001</th>\n",
       "      <th>brand</th>\n",
       "      <th>price</th>\n",
       "      <th>short_desc</th>\n",
       "      <th>img_url__002</th>\n",
       "    </tr>\n",
       "  </thead>\n",
       "  <tbody>\n",
       "    <tr>\n",
       "      <th>0</th>\n",
       "      <td>https://www.thegioididong.com/dtdd/samsung-gal...</td>\n",
       "      <td>Điện thoại</td>\n",
       "      <td>Điện thoại Samsung Galaxy A51 (6GB/128GB)</td>\n",
       "      <td>https://cdn.tgdd.vn/Products/Images/42/211570/...</td>\n",
       "      <td>Samsung</td>\n",
       "      <td>6490000</td>\n",
       "      <td>NaN</td>\n",
       "      <td>NaN</td>\n",
       "    </tr>\n",
       "    <tr>\n",
       "      <th>1</th>\n",
       "      <td>https://www.thegioididong.com/dtdd/xiaomi-redm...</td>\n",
       "      <td>Điện thoại</td>\n",
       "      <td>Điện thoại Xiaomi Redmi Note 9S</td>\n",
       "      <td>https://cdn.tgdd.vn/Products/Images/42/214924/...</td>\n",
       "      <td>Xiaomi</td>\n",
       "      <td>5690000</td>\n",
       "      <td>Redmi Note 9s là sản phẩm tầm trung nhà Xiaomi...</td>\n",
       "      <td>https://cdn.tgdd.vn/ValueIcons/1/Label_01-05.png</td>\n",
       "    </tr>\n",
       "    <tr>\n",
       "      <th>2</th>\n",
       "      <td>https://www.thegioididong.com/dtdd/vivo-v19-neo</td>\n",
       "      <td>Điện thoại</td>\n",
       "      <td>Điện thoại Vivo V19 Neo</td>\n",
       "      <td>https://cdn.tgdd.vn/Products/Images/42/220977/...</td>\n",
       "      <td>Vivo</td>\n",
       "      <td>7390000</td>\n",
       "      <td>Vivo V19 Neo là chiếc điện thoại tầm trung mới...</td>\n",
       "      <td>https://cdn.tgdd.vn/ValueIcons/1/Label_01-05.png</td>\n",
       "    </tr>\n",
       "    <tr>\n",
       "      <th>3</th>\n",
       "      <td>https://www.thegioididong.com/dtdd/iphone-11-p...</td>\n",
       "      <td>Điện thoại</td>\n",
       "      <td>Điện thoại iPhone 11 Pro Max 64GB</td>\n",
       "      <td>https://cdn.tgdd.vn/Products/Images/42/200533/...</td>\n",
       "      <td>iPhone (Apple)</td>\n",
       "      <td>33990000</td>\n",
       "      <td>Trong năm 2019 thì chiếc smartphone được nhiều...</td>\n",
       "      <td>NaN</td>\n",
       "    </tr>\n",
       "    <tr>\n",
       "      <th>4</th>\n",
       "      <td>https://www.thegioididong.com/dtdd/samsung-gal...</td>\n",
       "      <td>Điện thoại</td>\n",
       "      <td>Điện thoại Samsung Galaxy A71</td>\n",
       "      <td>https://cdn.tgdd.vn/Products/Images/42/210246/...</td>\n",
       "      <td>Samsung</td>\n",
       "      <td>8990000</td>\n",
       "      <td>Sau A51, Samsung tiếp tục ra mắt Galaxy A71 là...</td>\n",
       "      <td>NaN</td>\n",
       "    </tr>\n",
       "    <tr>\n",
       "      <th>...</th>\n",
       "      <td>...</td>\n",
       "      <td>...</td>\n",
       "      <td>...</td>\n",
       "      <td>...</td>\n",
       "      <td>...</td>\n",
       "      <td>...</td>\n",
       "      <td>...</td>\n",
       "      <td>...</td>\n",
       "    </tr>\n",
       "    <tr>\n",
       "      <th>198</th>\n",
       "      <td>https://www.thegioididong.com/dtdd/huawei-nova-5t</td>\n",
       "      <td>Điện thoại</td>\n",
       "      <td>Điện thoại Huawei Nova 5T</td>\n",
       "      <td>https://cdn.tgdd.vn/Products/Images/42/209795/...</td>\n",
       "      <td>Huawei</td>\n",
       "      <td>8290000</td>\n",
       "      <td>Huawei Nova 5T là mẫu smartphone có cấu hình m...</td>\n",
       "      <td>NaN</td>\n",
       "    </tr>\n",
       "    <tr>\n",
       "      <th>199</th>\n",
       "      <td>https://www.thegioididong.com/dtdd/vivo-y15</td>\n",
       "      <td>Điện thoại</td>\n",
       "      <td>Điện thoại Vivo Y15</td>\n",
       "      <td>https://cdn.tgdd.vn/Products/Images/42/202865/...</td>\n",
       "      <td>Vivo</td>\n",
       "      <td>3290000</td>\n",
       "      <td>Vivo Y15 là chiếc smartphone phổ thông mới ra ...</td>\n",
       "      <td>NaN</td>\n",
       "    </tr>\n",
       "    <tr>\n",
       "      <th>200</th>\n",
       "      <td>https://www.thegioididong.com/dtdd/iphone-se-1...</td>\n",
       "      <td>Điện thoại</td>\n",
       "      <td>Điện thoại iPhone SE 128GB (2020)</td>\n",
       "      <td>https://cdn.tgdd.vn/Products/Images/42/222629/...</td>\n",
       "      <td>iPhone (Apple)</td>\n",
       "      <td>14990000</td>\n",
       "      <td>Sau bao ngày chờ đợi, iPhone SE 2020 cuối cùng...</td>\n",
       "      <td>NaN</td>\n",
       "    </tr>\n",
       "    <tr>\n",
       "      <th>201</th>\n",
       "      <td>https://www.thegioididong.com/dtdd/iphone-se-2020</td>\n",
       "      <td>Điện thoại</td>\n",
       "      <td>Điện thoại iPhone SE 64GB (2020)</td>\n",
       "      <td>https://cdn.tgdd.vn/Products/Images/42/149456/...</td>\n",
       "      <td>iPhone (Apple)</td>\n",
       "      <td>12990000</td>\n",
       "      <td>iPhone SE 2020 đã bất ngờ ra mắt với thiết kế ...</td>\n",
       "      <td>NaN</td>\n",
       "    </tr>\n",
       "    <tr>\n",
       "      <th>202</th>\n",
       "      <td>https://www.thegioididong.com/dtdd/oppo-reno2-f</td>\n",
       "      <td>Điện thoại</td>\n",
       "      <td>Điện thoại OPPO Reno2 F</td>\n",
       "      <td>https://cdn.tgdd.vn/Products/Images/42/209800/...</td>\n",
       "      <td>OPPO</td>\n",
       "      <td>8990000</td>\n",
       "      <td>OPPO Reno2 F là một trong 3 chiếc smartphone t...</td>\n",
       "      <td>NaN</td>\n",
       "    </tr>\n",
       "  </tbody>\n",
       "</table>\n",
       "<p>102 rows × 8 columns</p>\n",
       "</div>"
      ],
      "text/plain": [
       "                                                  link    category  \\\n",
       "0    https://www.thegioididong.com/dtdd/samsung-gal...  Điện thoại   \n",
       "1    https://www.thegioididong.com/dtdd/xiaomi-redm...  Điện thoại   \n",
       "2      https://www.thegioididong.com/dtdd/vivo-v19-neo  Điện thoại   \n",
       "3    https://www.thegioididong.com/dtdd/iphone-11-p...  Điện thoại   \n",
       "4    https://www.thegioididong.com/dtdd/samsung-gal...  Điện thoại   \n",
       "..                                                 ...         ...   \n",
       "198  https://www.thegioididong.com/dtdd/huawei-nova-5t  Điện thoại   \n",
       "199        https://www.thegioididong.com/dtdd/vivo-y15  Điện thoại   \n",
       "200  https://www.thegioididong.com/dtdd/iphone-se-1...  Điện thoại   \n",
       "201  https://www.thegioididong.com/dtdd/iphone-se-2020  Điện thoại   \n",
       "202    https://www.thegioididong.com/dtdd/oppo-reno2-f  Điện thoại   \n",
       "\n",
       "                                          name  \\\n",
       "0    Điện thoại Samsung Galaxy A51 (6GB/128GB)   \n",
       "1              Điện thoại Xiaomi Redmi Note 9S   \n",
       "2                      Điện thoại Vivo V19 Neo   \n",
       "3            Điện thoại iPhone 11 Pro Max 64GB   \n",
       "4                Điện thoại Samsung Galaxy A71   \n",
       "..                                         ...   \n",
       "198                  Điện thoại Huawei Nova 5T   \n",
       "199                        Điện thoại Vivo Y15   \n",
       "200          Điện thoại iPhone SE 128GB (2020)   \n",
       "201           Điện thoại iPhone SE 64GB (2020)   \n",
       "202                    Điện thoại OPPO Reno2 F   \n",
       "\n",
       "                                          img_url__001           brand  \\\n",
       "0    https://cdn.tgdd.vn/Products/Images/42/211570/...         Samsung   \n",
       "1    https://cdn.tgdd.vn/Products/Images/42/214924/...          Xiaomi   \n",
       "2    https://cdn.tgdd.vn/Products/Images/42/220977/...            Vivo   \n",
       "3    https://cdn.tgdd.vn/Products/Images/42/200533/...  iPhone (Apple)   \n",
       "4    https://cdn.tgdd.vn/Products/Images/42/210246/...         Samsung   \n",
       "..                                                 ...             ...   \n",
       "198  https://cdn.tgdd.vn/Products/Images/42/209795/...          Huawei   \n",
       "199  https://cdn.tgdd.vn/Products/Images/42/202865/...            Vivo   \n",
       "200  https://cdn.tgdd.vn/Products/Images/42/222629/...  iPhone (Apple)   \n",
       "201  https://cdn.tgdd.vn/Products/Images/42/149456/...  iPhone (Apple)   \n",
       "202  https://cdn.tgdd.vn/Products/Images/42/209800/...            OPPO   \n",
       "\n",
       "        price                                         short_desc  \\\n",
       "0     6490000                                                NaN   \n",
       "1     5690000  Redmi Note 9s là sản phẩm tầm trung nhà Xiaomi...   \n",
       "2     7390000  Vivo V19 Neo là chiếc điện thoại tầm trung mới...   \n",
       "3    33990000  Trong năm 2019 thì chiếc smartphone được nhiều...   \n",
       "4     8990000  Sau A51, Samsung tiếp tục ra mắt Galaxy A71 là...   \n",
       "..        ...                                                ...   \n",
       "198   8290000  Huawei Nova 5T là mẫu smartphone có cấu hình m...   \n",
       "199   3290000  Vivo Y15 là chiếc smartphone phổ thông mới ra ...   \n",
       "200  14990000  Sau bao ngày chờ đợi, iPhone SE 2020 cuối cùng...   \n",
       "201  12990000  iPhone SE 2020 đã bất ngờ ra mắt với thiết kế ...   \n",
       "202   8990000  OPPO Reno2 F là một trong 3 chiếc smartphone t...   \n",
       "\n",
       "                                         img_url__002  \n",
       "0                                                 NaN  \n",
       "1    https://cdn.tgdd.vn/ValueIcons/1/Label_01-05.png  \n",
       "2    https://cdn.tgdd.vn/ValueIcons/1/Label_01-05.png  \n",
       "3                                                 NaN  \n",
       "4                                                 NaN  \n",
       "..                                                ...  \n",
       "198                                               NaN  \n",
       "199                                               NaN  \n",
       "200                                               NaN  \n",
       "201                                               NaN  \n",
       "202                                               NaN  \n",
       "\n",
       "[102 rows x 8 columns]"
      ]
     },
     "execution_count": 12,
     "metadata": {},
     "output_type": "execute_result"
    }
   ],
   "source": [
    "Data_groupby_category.get_group(\"Điện thoại\")"
   ]
  },
  {
   "cell_type": "code",
   "execution_count": 13,
   "metadata": {
    "scrolled": true
   },
   "outputs": [
    {
     "data": {
      "text/plain": [
       "pandas.core.frame.DataFrame"
      ]
     },
     "execution_count": 13,
     "metadata": {},
     "output_type": "execute_result"
    }
   ],
   "source": [
    "type(Data_groupby_category.get_group(\"Điện thoại\"))"
   ]
  },
  {
   "cell_type": "code",
   "execution_count": 14,
   "metadata": {
    "scrolled": true
   },
   "outputs": [
    {
     "data": {
      "text/html": [
       "<div>\n",
       "<style scoped>\n",
       "    .dataframe tbody tr th:only-of-type {\n",
       "        vertical-align: middle;\n",
       "    }\n",
       "\n",
       "    .dataframe tbody tr th {\n",
       "        vertical-align: top;\n",
       "    }\n",
       "\n",
       "    .dataframe thead th {\n",
       "        text-align: right;\n",
       "    }\n",
       "</style>\n",
       "<table border=\"1\" class=\"dataframe\">\n",
       "  <thead>\n",
       "    <tr style=\"text-align: right;\">\n",
       "      <th></th>\n",
       "      <th>link</th>\n",
       "      <th>category</th>\n",
       "      <th>name</th>\n",
       "      <th>img_url__001</th>\n",
       "      <th>brand</th>\n",
       "      <th>price</th>\n",
       "      <th>short_desc</th>\n",
       "      <th>img_url__002</th>\n",
       "    </tr>\n",
       "  </thead>\n",
       "  <tbody>\n",
       "    <tr>\n",
       "      <th>0</th>\n",
       "      <td>https://www.thegioididong.com/dtdd/samsung-gal...</td>\n",
       "      <td>Điện thoại</td>\n",
       "      <td>Điện thoại Samsung Galaxy A51 (6GB/128GB)</td>\n",
       "      <td>https://cdn.tgdd.vn/Products/Images/42/211570/...</td>\n",
       "      <td>Samsung</td>\n",
       "      <td>6490000</td>\n",
       "      <td>NaN</td>\n",
       "      <td>NaN</td>\n",
       "    </tr>\n",
       "    <tr>\n",
       "      <th>1</th>\n",
       "      <td>https://www.thegioididong.com/dtdd/xiaomi-redm...</td>\n",
       "      <td>Điện thoại</td>\n",
       "      <td>Điện thoại Xiaomi Redmi Note 9S</td>\n",
       "      <td>https://cdn.tgdd.vn/Products/Images/42/214924/...</td>\n",
       "      <td>Xiaomi</td>\n",
       "      <td>5690000</td>\n",
       "      <td>Redmi Note 9s là sản phẩm tầm trung nhà Xiaomi...</td>\n",
       "      <td>https://cdn.tgdd.vn/ValueIcons/1/Label_01-05.png</td>\n",
       "    </tr>\n",
       "    <tr>\n",
       "      <th>2</th>\n",
       "      <td>https://www.thegioididong.com/dtdd/vivo-v19-neo</td>\n",
       "      <td>Điện thoại</td>\n",
       "      <td>Điện thoại Vivo V19 Neo</td>\n",
       "      <td>https://cdn.tgdd.vn/Products/Images/42/220977/...</td>\n",
       "      <td>Vivo</td>\n",
       "      <td>7390000</td>\n",
       "      <td>Vivo V19 Neo là chiếc điện thoại tầm trung mới...</td>\n",
       "      <td>https://cdn.tgdd.vn/ValueIcons/1/Label_01-05.png</td>\n",
       "    </tr>\n",
       "    <tr>\n",
       "      <th>3</th>\n",
       "      <td>https://www.thegioididong.com/dtdd/iphone-11-p...</td>\n",
       "      <td>Điện thoại</td>\n",
       "      <td>Điện thoại iPhone 11 Pro Max 64GB</td>\n",
       "      <td>https://cdn.tgdd.vn/Products/Images/42/200533/...</td>\n",
       "      <td>iPhone (Apple)</td>\n",
       "      <td>33990000</td>\n",
       "      <td>Trong năm 2019 thì chiếc smartphone được nhiều...</td>\n",
       "      <td>NaN</td>\n",
       "    </tr>\n",
       "    <tr>\n",
       "      <th>4</th>\n",
       "      <td>https://www.thegioididong.com/dtdd/samsung-gal...</td>\n",
       "      <td>Điện thoại</td>\n",
       "      <td>Điện thoại Samsung Galaxy A71</td>\n",
       "      <td>https://cdn.tgdd.vn/Products/Images/42/210246/...</td>\n",
       "      <td>Samsung</td>\n",
       "      <td>8990000</td>\n",
       "      <td>Sau A51, Samsung tiếp tục ra mắt Galaxy A71 là...</td>\n",
       "      <td>NaN</td>\n",
       "    </tr>\n",
       "    <tr>\n",
       "      <th>...</th>\n",
       "      <td>...</td>\n",
       "      <td>...</td>\n",
       "      <td>...</td>\n",
       "      <td>...</td>\n",
       "      <td>...</td>\n",
       "      <td>...</td>\n",
       "      <td>...</td>\n",
       "      <td>...</td>\n",
       "    </tr>\n",
       "    <tr>\n",
       "      <th>198</th>\n",
       "      <td>https://www.thegioididong.com/dtdd/huawei-nova-5t</td>\n",
       "      <td>Điện thoại</td>\n",
       "      <td>Điện thoại Huawei Nova 5T</td>\n",
       "      <td>https://cdn.tgdd.vn/Products/Images/42/209795/...</td>\n",
       "      <td>Huawei</td>\n",
       "      <td>8290000</td>\n",
       "      <td>Huawei Nova 5T là mẫu smartphone có cấu hình m...</td>\n",
       "      <td>NaN</td>\n",
       "    </tr>\n",
       "    <tr>\n",
       "      <th>199</th>\n",
       "      <td>https://www.thegioididong.com/dtdd/vivo-y15</td>\n",
       "      <td>Điện thoại</td>\n",
       "      <td>Điện thoại Vivo Y15</td>\n",
       "      <td>https://cdn.tgdd.vn/Products/Images/42/202865/...</td>\n",
       "      <td>Vivo</td>\n",
       "      <td>3290000</td>\n",
       "      <td>Vivo Y15 là chiếc smartphone phổ thông mới ra ...</td>\n",
       "      <td>NaN</td>\n",
       "    </tr>\n",
       "    <tr>\n",
       "      <th>200</th>\n",
       "      <td>https://www.thegioididong.com/dtdd/iphone-se-1...</td>\n",
       "      <td>Điện thoại</td>\n",
       "      <td>Điện thoại iPhone SE 128GB (2020)</td>\n",
       "      <td>https://cdn.tgdd.vn/Products/Images/42/222629/...</td>\n",
       "      <td>iPhone (Apple)</td>\n",
       "      <td>14990000</td>\n",
       "      <td>Sau bao ngày chờ đợi, iPhone SE 2020 cuối cùng...</td>\n",
       "      <td>NaN</td>\n",
       "    </tr>\n",
       "    <tr>\n",
       "      <th>201</th>\n",
       "      <td>https://www.thegioididong.com/dtdd/iphone-se-2020</td>\n",
       "      <td>Điện thoại</td>\n",
       "      <td>Điện thoại iPhone SE 64GB (2020)</td>\n",
       "      <td>https://cdn.tgdd.vn/Products/Images/42/149456/...</td>\n",
       "      <td>iPhone (Apple)</td>\n",
       "      <td>12990000</td>\n",
       "      <td>iPhone SE 2020 đã bất ngờ ra mắt với thiết kế ...</td>\n",
       "      <td>NaN</td>\n",
       "    </tr>\n",
       "    <tr>\n",
       "      <th>202</th>\n",
       "      <td>https://www.thegioididong.com/dtdd/oppo-reno2-f</td>\n",
       "      <td>Điện thoại</td>\n",
       "      <td>Điện thoại OPPO Reno2 F</td>\n",
       "      <td>https://cdn.tgdd.vn/Products/Images/42/209800/...</td>\n",
       "      <td>OPPO</td>\n",
       "      <td>8990000</td>\n",
       "      <td>OPPO Reno2 F là một trong 3 chiếc smartphone t...</td>\n",
       "      <td>NaN</td>\n",
       "    </tr>\n",
       "  </tbody>\n",
       "</table>\n",
       "<p>102 rows × 8 columns</p>\n",
       "</div>"
      ],
      "text/plain": [
       "                                                  link    category  \\\n",
       "0    https://www.thegioididong.com/dtdd/samsung-gal...  Điện thoại   \n",
       "1    https://www.thegioididong.com/dtdd/xiaomi-redm...  Điện thoại   \n",
       "2      https://www.thegioididong.com/dtdd/vivo-v19-neo  Điện thoại   \n",
       "3    https://www.thegioididong.com/dtdd/iphone-11-p...  Điện thoại   \n",
       "4    https://www.thegioididong.com/dtdd/samsung-gal...  Điện thoại   \n",
       "..                                                 ...         ...   \n",
       "198  https://www.thegioididong.com/dtdd/huawei-nova-5t  Điện thoại   \n",
       "199        https://www.thegioididong.com/dtdd/vivo-y15  Điện thoại   \n",
       "200  https://www.thegioididong.com/dtdd/iphone-se-1...  Điện thoại   \n",
       "201  https://www.thegioididong.com/dtdd/iphone-se-2020  Điện thoại   \n",
       "202    https://www.thegioididong.com/dtdd/oppo-reno2-f  Điện thoại   \n",
       "\n",
       "                                          name  \\\n",
       "0    Điện thoại Samsung Galaxy A51 (6GB/128GB)   \n",
       "1              Điện thoại Xiaomi Redmi Note 9S   \n",
       "2                      Điện thoại Vivo V19 Neo   \n",
       "3            Điện thoại iPhone 11 Pro Max 64GB   \n",
       "4                Điện thoại Samsung Galaxy A71   \n",
       "..                                         ...   \n",
       "198                  Điện thoại Huawei Nova 5T   \n",
       "199                        Điện thoại Vivo Y15   \n",
       "200          Điện thoại iPhone SE 128GB (2020)   \n",
       "201           Điện thoại iPhone SE 64GB (2020)   \n",
       "202                    Điện thoại OPPO Reno2 F   \n",
       "\n",
       "                                          img_url__001           brand  \\\n",
       "0    https://cdn.tgdd.vn/Products/Images/42/211570/...         Samsung   \n",
       "1    https://cdn.tgdd.vn/Products/Images/42/214924/...          Xiaomi   \n",
       "2    https://cdn.tgdd.vn/Products/Images/42/220977/...            Vivo   \n",
       "3    https://cdn.tgdd.vn/Products/Images/42/200533/...  iPhone (Apple)   \n",
       "4    https://cdn.tgdd.vn/Products/Images/42/210246/...         Samsung   \n",
       "..                                                 ...             ...   \n",
       "198  https://cdn.tgdd.vn/Products/Images/42/209795/...          Huawei   \n",
       "199  https://cdn.tgdd.vn/Products/Images/42/202865/...            Vivo   \n",
       "200  https://cdn.tgdd.vn/Products/Images/42/222629/...  iPhone (Apple)   \n",
       "201  https://cdn.tgdd.vn/Products/Images/42/149456/...  iPhone (Apple)   \n",
       "202  https://cdn.tgdd.vn/Products/Images/42/209800/...            OPPO   \n",
       "\n",
       "        price                                         short_desc  \\\n",
       "0     6490000                                                NaN   \n",
       "1     5690000  Redmi Note 9s là sản phẩm tầm trung nhà Xiaomi...   \n",
       "2     7390000  Vivo V19 Neo là chiếc điện thoại tầm trung mới...   \n",
       "3    33990000  Trong năm 2019 thì chiếc smartphone được nhiều...   \n",
       "4     8990000  Sau A51, Samsung tiếp tục ra mắt Galaxy A71 là...   \n",
       "..        ...                                                ...   \n",
       "198   8290000  Huawei Nova 5T là mẫu smartphone có cấu hình m...   \n",
       "199   3290000  Vivo Y15 là chiếc smartphone phổ thông mới ra ...   \n",
       "200  14990000  Sau bao ngày chờ đợi, iPhone SE 2020 cuối cùng...   \n",
       "201  12990000  iPhone SE 2020 đã bất ngờ ra mắt với thiết kế ...   \n",
       "202   8990000  OPPO Reno2 F là một trong 3 chiếc smartphone t...   \n",
       "\n",
       "                                         img_url__002  \n",
       "0                                                 NaN  \n",
       "1    https://cdn.tgdd.vn/ValueIcons/1/Label_01-05.png  \n",
       "2    https://cdn.tgdd.vn/ValueIcons/1/Label_01-05.png  \n",
       "3                                                 NaN  \n",
       "4                                                 NaN  \n",
       "..                                                ...  \n",
       "198                                               NaN  \n",
       "199                                               NaN  \n",
       "200                                               NaN  \n",
       "201                                               NaN  \n",
       "202                                               NaN  \n",
       "\n",
       "[102 rows x 8 columns]"
      ]
     },
     "execution_count": 14,
     "metadata": {},
     "output_type": "execute_result"
    }
   ],
   "source": [
    "phone = Data_groupby_category.get_group(\"Điện thoại\")\n",
    "phone"
   ]
  },
  {
   "cell_type": "code",
   "execution_count": 15,
   "metadata": {},
   "outputs": [
    {
     "data": {
      "text/plain": [
       "<pandas.core.groupby.generic.DataFrameGroupBy object at 0x0000024C8B5B9C08>"
      ]
     },
     "execution_count": 15,
     "metadata": {},
     "output_type": "execute_result"
    }
   ],
   "source": [
    "Data_groupby_phoneBrand = phone.groupby('brand')\n",
    "Data_groupby_phoneBrand"
   ]
  },
  {
   "cell_type": "markdown",
   "metadata": {},
   "source": [
    "em hùng làm count để xem số lượng các sản phẩm mỗi loại"
   ]
  },
  {
   "cell_type": "code",
   "execution_count": 16,
   "metadata": {
    "scrolled": true
   },
   "outputs": [
    {
     "data": {
      "text/html": [
       "<div>\n",
       "<style scoped>\n",
       "    .dataframe tbody tr th:only-of-type {\n",
       "        vertical-align: middle;\n",
       "    }\n",
       "\n",
       "    .dataframe tbody tr th {\n",
       "        vertical-align: top;\n",
       "    }\n",
       "\n",
       "    .dataframe thead th {\n",
       "        text-align: right;\n",
       "    }\n",
       "</style>\n",
       "<table border=\"1\" class=\"dataframe\">\n",
       "  <thead>\n",
       "    <tr style=\"text-align: right;\">\n",
       "      <th></th>\n",
       "      <th>link</th>\n",
       "      <th>category</th>\n",
       "      <th>name</th>\n",
       "      <th>img_url__001</th>\n",
       "      <th>price</th>\n",
       "      <th>short_desc</th>\n",
       "      <th>img_url__002</th>\n",
       "    </tr>\n",
       "    <tr>\n",
       "      <th>brand</th>\n",
       "      <th></th>\n",
       "      <th></th>\n",
       "      <th></th>\n",
       "      <th></th>\n",
       "      <th></th>\n",
       "      <th></th>\n",
       "      <th></th>\n",
       "    </tr>\n",
       "  </thead>\n",
       "  <tbody>\n",
       "    <tr>\n",
       "      <th>Coolpad</th>\n",
       "      <td>5</td>\n",
       "      <td>5</td>\n",
       "      <td>5</td>\n",
       "      <td>5</td>\n",
       "      <td>5</td>\n",
       "      <td>5</td>\n",
       "      <td>0</td>\n",
       "    </tr>\n",
       "    <tr>\n",
       "      <th>Huawei</th>\n",
       "      <td>5</td>\n",
       "      <td>5</td>\n",
       "      <td>5</td>\n",
       "      <td>5</td>\n",
       "      <td>5</td>\n",
       "      <td>5</td>\n",
       "      <td>0</td>\n",
       "    </tr>\n",
       "    <tr>\n",
       "      <th>Itel</th>\n",
       "      <td>10</td>\n",
       "      <td>10</td>\n",
       "      <td>10</td>\n",
       "      <td>10</td>\n",
       "      <td>10</td>\n",
       "      <td>10</td>\n",
       "      <td>0</td>\n",
       "    </tr>\n",
       "    <tr>\n",
       "      <th>Masstel</th>\n",
       "      <td>9</td>\n",
       "      <td>9</td>\n",
       "      <td>9</td>\n",
       "      <td>9</td>\n",
       "      <td>9</td>\n",
       "      <td>9</td>\n",
       "      <td>0</td>\n",
       "    </tr>\n",
       "    <tr>\n",
       "      <th>Mobell</th>\n",
       "      <td>11</td>\n",
       "      <td>11</td>\n",
       "      <td>11</td>\n",
       "      <td>11</td>\n",
       "      <td>11</td>\n",
       "      <td>11</td>\n",
       "      <td>0</td>\n",
       "    </tr>\n",
       "    <tr>\n",
       "      <th>Nokia</th>\n",
       "      <td>10</td>\n",
       "      <td>10</td>\n",
       "      <td>10</td>\n",
       "      <td>10</td>\n",
       "      <td>10</td>\n",
       "      <td>10</td>\n",
       "      <td>0</td>\n",
       "    </tr>\n",
       "    <tr>\n",
       "      <th>OPPO</th>\n",
       "      <td>7</td>\n",
       "      <td>7</td>\n",
       "      <td>7</td>\n",
       "      <td>7</td>\n",
       "      <td>7</td>\n",
       "      <td>7</td>\n",
       "      <td>1</td>\n",
       "    </tr>\n",
       "    <tr>\n",
       "      <th>Realme</th>\n",
       "      <td>8</td>\n",
       "      <td>8</td>\n",
       "      <td>8</td>\n",
       "      <td>8</td>\n",
       "      <td>8</td>\n",
       "      <td>8</td>\n",
       "      <td>0</td>\n",
       "    </tr>\n",
       "    <tr>\n",
       "      <th>Samsung</th>\n",
       "      <td>8</td>\n",
       "      <td>8</td>\n",
       "      <td>8</td>\n",
       "      <td>8</td>\n",
       "      <td>8</td>\n",
       "      <td>7</td>\n",
       "      <td>2</td>\n",
       "    </tr>\n",
       "    <tr>\n",
       "      <th>Vivo</th>\n",
       "      <td>5</td>\n",
       "      <td>5</td>\n",
       "      <td>5</td>\n",
       "      <td>5</td>\n",
       "      <td>5</td>\n",
       "      <td>4</td>\n",
       "      <td>1</td>\n",
       "    </tr>\n",
       "    <tr>\n",
       "      <th>Vsmart</th>\n",
       "      <td>8</td>\n",
       "      <td>8</td>\n",
       "      <td>8</td>\n",
       "      <td>8</td>\n",
       "      <td>8</td>\n",
       "      <td>8</td>\n",
       "      <td>8</td>\n",
       "    </tr>\n",
       "    <tr>\n",
       "      <th>Xiaomi</th>\n",
       "      <td>12</td>\n",
       "      <td>12</td>\n",
       "      <td>12</td>\n",
       "      <td>12</td>\n",
       "      <td>12</td>\n",
       "      <td>11</td>\n",
       "      <td>12</td>\n",
       "    </tr>\n",
       "    <tr>\n",
       "      <th>iPhone (Apple)</th>\n",
       "      <td>4</td>\n",
       "      <td>4</td>\n",
       "      <td>4</td>\n",
       "      <td>4</td>\n",
       "      <td>4</td>\n",
       "      <td>3</td>\n",
       "      <td>0</td>\n",
       "    </tr>\n",
       "  </tbody>\n",
       "</table>\n",
       "</div>"
      ],
      "text/plain": [
       "                link  category  name  img_url__001  price  short_desc  \\\n",
       "brand                                                                   \n",
       "Coolpad            5         5     5             5      5           5   \n",
       "Huawei             5         5     5             5      5           5   \n",
       "Itel              10        10    10            10     10          10   \n",
       "Masstel            9         9     9             9      9           9   \n",
       "Mobell            11        11    11            11     11          11   \n",
       "Nokia             10        10    10            10     10          10   \n",
       "OPPO               7         7     7             7      7           7   \n",
       "Realme             8         8     8             8      8           8   \n",
       "Samsung            8         8     8             8      8           7   \n",
       "Vivo               5         5     5             5      5           4   \n",
       "Vsmart             8         8     8             8      8           8   \n",
       "Xiaomi            12        12    12            12     12          11   \n",
       "iPhone (Apple)     4         4     4             4      4           3   \n",
       "\n",
       "                img_url__002  \n",
       "brand                         \n",
       "Coolpad                    0  \n",
       "Huawei                     0  \n",
       "Itel                       0  \n",
       "Masstel                    0  \n",
       "Mobell                     0  \n",
       "Nokia                      0  \n",
       "OPPO                       1  \n",
       "Realme                     0  \n",
       "Samsung                    2  \n",
       "Vivo                       1  \n",
       "Vsmart                     8  \n",
       "Xiaomi                    12  \n",
       "iPhone (Apple)             0  "
      ]
     },
     "execution_count": 16,
     "metadata": {},
     "output_type": "execute_result"
    }
   ],
   "source": [
    "Data_groupby_phoneBrand.count()"
   ]
  },
  {
   "cell_type": "code",
   "execution_count": 17,
   "metadata": {
    "scrolled": false
   },
   "outputs": [
    {
     "data": {
      "text/plain": [
       "Xiaomi            12\n",
       "Mobell            11\n",
       "Nokia             10\n",
       "Itel              10\n",
       "Masstel            9\n",
       "Samsung            8\n",
       "Vsmart             8\n",
       "Realme             8\n",
       "OPPO               7\n",
       "Huawei             5\n",
       "Coolpad            5\n",
       "Vivo               5\n",
       "iPhone (Apple)     4\n",
       "Name: brand, dtype: int64"
      ]
     },
     "execution_count": 17,
     "metadata": {},
     "output_type": "execute_result"
    }
   ],
   "source": [
    "phone['brand'].value_counts()"
   ]
  },
  {
   "cell_type": "code",
   "execution_count": 18,
   "metadata": {},
   "outputs": [
    {
     "data": {
      "text/plain": [
       "pandas.core.series.Series"
      ]
     },
     "execution_count": 18,
     "metadata": {},
     "output_type": "execute_result"
    }
   ],
   "source": [
    "a = phone['brand'].value_counts()\n",
    "type(a)"
   ]
  },
  {
   "cell_type": "markdown",
   "metadata": {},
   "source": [
    "em sử dựng biểu đồ pie của matplotlib để mô tả tỷ lệ các thương hiệu điện thoại đang được bán"
   ]
  },
  {
   "cell_type": "code",
   "execution_count": 19,
   "metadata": {},
   "outputs": [
    {
     "data": {
      "image/png": "[encoded data removed]",
      "text/plain": [
       "<Figure size 432x288 with 1 Axes>"
      ]
     },
     "metadata": {},
     "output_type": "display_data"
    }
   ],
   "source": [
    "brands = ['Xiaomi' , 'Mobel','Itel','Nokia','Masstel','Realme','Vsmart','Samsung','Oppo','Coolpad','Huawei','Vivo','Iphone']\n",
    "plt.pie(a,labels= brands)\n",
    "plt.legend()\n",
    "plt.title(\"tỷ lệ các thương hiệu đang được bày bán\")\n",
    "plt.show()"
   ]
  },
  {
   "cell_type": "code",
   "execution_count": 20,
   "metadata": {},
   "outputs": [],
   "source": [
    "phoneDataFrame = pd.DataFrame()"
   ]
  },
  {
   "cell_type": "markdown",
   "metadata": {},
   "source": [
    "them thư viện sseaborn"
   ]
  },
  {
   "cell_type": "code",
   "execution_count": 21,
   "metadata": {},
   "outputs": [],
   "source": [
    "import seaborn as sns"
   ]
  },
  {
   "cell_type": "markdown",
   "metadata": {},
   "source": [
    "sử dụng biểu đồ scatter để xem mối tương quan giữ thương hiệu và giá bán"
   ]
  },
  {
   "cell_type": "code",
   "execution_count": 23,
   "metadata": {
    "scrolled": true
   },
   "outputs": [
    {
     "data": {
      "image/png": "[encoded data removed]",
      "text/plain": [
       "<Figure size 432x288 with 1 Axes>"
      ]
     },
     "metadata": {
      "needs_background": "light"
     },
     "output_type": "display_data"
    }
   ],
   "source": [
    "sns.scatterplot(x=\"price\", y=\"brand\", data=phone)\n",
    "plt.title(\"mối tương quan giữa thương hiệu và giá cả\")\n",
    "plt.show()"
   ]
  },
  {
   "cell_type": "markdown",
   "metadata": {},
   "source": [
    "# nhận xét\n",
    "có thể thất hầy hết các thương hiệu để có giá bán dưới 15 triệu đồng , có một điểm đột biến đó chính là iphone pro max , cho thấy đây là một sản phẩm tốt hơn các sản phẩm kia về chất lượng rất nhiều"
   ]
  },
  {
   "cell_type": "code",
   "execution_count": 24,
   "metadata": {
    "scrolled": true
   },
   "outputs": [
    {
     "data": {
      "image/png": "[encoded data removed]",
      "text/plain": [
       "<Figure size 432x288 with 1 Axes>"
      ]
     },
     "metadata": {
      "needs_background": "light"
     },
     "output_type": "display_data"
    }
   ],
   "source": [
    "sns.distplot(phone['price'],kde = False) \n",
    "plt.title(\"bảng phân loại số lượng sản phẩm trong 1 khoảng giá\")\n",
    "plt.show()"
   ]
  },
  {
   "cell_type": "markdown",
   "metadata": {},
   "source": [
    "em sử dụng biều đồ distplot để miêu tả phân loại sản phẩm theo giá"
   ]
  },
  {
   "cell_type": "markdown",
   "metadata": {},
   "source": [
    "# nhận xét\n",
    "trong khỏng dưới 5 triệu là ta sẽ có nhiều số lượng sản phẩm nhất"
   ]
  }
 ],
 "metadata": {
  "kernelspec": {
   "display_name": "Python 3",
   "language": "python",
   "name": "python3"
  },
  "language_info": {
   "codemirror_mode": {
    "name": "ipython",
    "version": 3
   },
   "file_extension": ".py",
   "mimetype": "text/x-python",
   "name": "python",
   "nbconvert_exporter": "python",
   "pygments_lexer": "ipython3",
   "version": "3.7.6"
  }
 },
 "nbformat": 4,
 "nbformat_minor": 4
}
